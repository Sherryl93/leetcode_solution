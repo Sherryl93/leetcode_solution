{
 "cells": [
  {
   "cell_type": "markdown",
   "id": "d0d1c3c4",
   "metadata": {},
   "source": [
    "# Day 01 - Binary Search\n",
    "\n",
    "## Table of Content:\n",
    "1. [LeetCode704 Binary Search](#LeetCode704-Binary-Search)\n",
    "2. [LeetCode278 First Bad Version](#LeetCode278-First-Bad-Version)\n",
    "3. [LeetCode35 Search Insert Position](#LeetCode35-Search-Insert-Position)"
   ]
  },
  {
   "cell_type": "markdown",
   "id": "65c74c4a",
   "metadata": {},
   "source": [
    "## LeetCode704 Binary Search\n",
    "Level: **Easy**\n",
    "<br>Accepted\n",
    "<br>Runtime: 204 ms\n",
    "<br>Memory Usage: 14.8 MB\n",
    "<br>-----------------------------------\n",
    "<br>Time: **O(log N)| Space: O(1)** "
   ]
  },
  {
   "cell_type": "code",
   "execution_count": 2,
   "id": "7ace1224",
   "metadata": {},
   "outputs": [],
   "source": [
    "class Solution(object):\n",
    "    def search(self, nums, target):\n",
    "        \"\"\"\n",
    "        :type nums: List[int]\n",
    "        :type target: int\n",
    "        :rtype: int\n",
    "        \"\"\"\n",
    "        # initialize left and right\n",
    "        # while left<=right\n",
    "        # define mid point\n",
    "        # check if mid point is target -> return\n",
    "        # if mid > target -> right = mid\n",
    "        # if mid <target -> left = mid\n",
    "        left = 0\n",
    "        right = len(nums)-1\n",
    "        while left<= right:\n",
    "            mid = left+(right-left)/2\n",
    "            if nums[mid]==target:\n",
    "                return mid\n",
    "            if target<nums[mid]:\n",
    "                right=mid-1\n",
    "            else:\n",
    "                left=mid+1\n",
    "        return -1"
   ]
  },
  {
   "cell_type": "markdown",
   "id": "3cbdc62c",
   "metadata": {},
   "source": [
    "## LeetCode278 First Bad Version\n",
    "Level: **Easy**\n",
    "<br>Accepted\n",
    "<br>Runtime: 43 ms\n",
    "<br>Memory Usage: 13.3 MB\n",
    "<br>-----------------------------------\n",
    "<br>**Time: O(log N) | Space:O(1)**"
   ]
  },
  {
   "cell_type": "code",
   "execution_count": null,
   "id": "e3e151d8",
   "metadata": {},
   "outputs": [],
   "source": [
    "# The isBadVersion API is already defined for you.\n",
    "# @param version, an integer\n",
    "# @return a bool\n",
    "# def isBadVersion(version):\n",
    "\n",
    "class Solution(object):\n",
    "    def firstBadVersion(self, n):\n",
    "        \"\"\"\n",
    "        :type n: int\n",
    "        :rtype: int\n",
    "        \"\"\"\n",
    "        left = 0\n",
    "        right = n\n",
    "        \n",
    "        while(left<right):\n",
    "            mid = left+(right-left)/2\n",
    "            if isBadVersion(mid):\n",
    "                right = mid\n",
    "            else:\n",
    "                left=mid+1\n",
    "            \n",
    "        return left"
   ]
  },
  {
   "cell_type": "markdown",
   "id": "5cd46ea1",
   "metadata": {},
   "source": [
    "## LeetCode35 Search Insert Position\n",
    "Level: **Easy**\n",
    "<br>Accepted\n",
    "<br>Runtime: 48 ms\n",
    "<br>Memory Usage: 15.2 MB\n",
    "<br>-----------------------------------\n",
    "<br>**Time: O(log N) | Space O(1)**"
   ]
  },
  {
   "cell_type": "code",
   "execution_count": null,
   "id": "852811a8",
   "metadata": {},
   "outputs": [],
   "source": [
    "class Solution:\n",
    "    def searchInsert(self, nums: List[int], target: int) -> int:\n",
    "        L=0\n",
    "        H=len(nums)-1\n",
    "        \n",
    "        while L<=H:\n",
    "            M = int(L+(H-L)/2)\n",
    "            if nums[M]==target:\n",
    "                return M\n",
    "            elif nums[M]<target:\n",
    "                L=M+1\n",
    "            else:\n",
    "                H=M-1\n",
    "        return L"
   ]
  }
 ],
 "metadata": {
  "kernelspec": {
   "display_name": "Python 3",
   "language": "python",
   "name": "python3"
  },
  "language_info": {
   "codemirror_mode": {
    "name": "ipython",
    "version": 3
   },
   "file_extension": ".py",
   "mimetype": "text/x-python",
   "name": "python",
   "nbconvert_exporter": "python",
   "pygments_lexer": "ipython3",
   "version": "3.7.0"
  },
  "toc": {
   "base_numbering": 1,
   "nav_menu": {},
   "number_sections": true,
   "sideBar": true,
   "skip_h1_title": false,
   "title_cell": "Table of Contents",
   "title_sidebar": "Contents",
   "toc_cell": false,
   "toc_position": {},
   "toc_section_display": true,
   "toc_window_display": false
  }
 },
 "nbformat": 4,
 "nbformat_minor": 5
}
